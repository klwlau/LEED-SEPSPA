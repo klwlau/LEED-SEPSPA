{
 "cells": [
  {
   "cell_type": "code",
   "execution_count": 1,
   "metadata": {},
   "outputs": [],
   "source": [
    "from sepspa.shiftCenter import shiftCenter #import module for centering LEED 00 spot\n",
    "from sepspa.fitting import fitting,utility #import module for sepspa and analysis tool"
   ]
  },
  {
   "cell_type": "code",
   "execution_count": null,
   "metadata": {},
   "outputs": [],
   "source": [
    "\"\"\"To center a set of LEED images, from configList.json\"\"\"\n",
    "\n",
    "shiftingClass = shiftCenter() #initialize shiftCenter class\n",
    "shiftingClass.startShiftCenter() #start centering LEED 00 spot"
   ]
  },
  {
   "cell_type": "code",
   "execution_count": null,
   "metadata": {},
   "outputs": [],
   "source": [
    "\"\"\"To fit a data set, from configList.json\"\"\"\n",
    "\n",
    "sepspaClass = fitting() #initialize fitting class\n",
    "sepResultDictonary = sepspaClass.sepMode() #Run sep only\n",
    "spaResultDictonary_raw = sepspaClass.spaMode() #Run spa. if sep is not run before, it will run sep then run spa\n",
    "spaResultDictonary_ellipticalCorrected = sepspaClass.ellipticalCorrection() # Run elliptical correction after spa mode complete\n",
    "\n",
    "pythoObject = sepspaClass.loadPLK(\"PATHtoDataSet/pythonObj/xxxxx.plk\") #Load python object if needed\n",
    "\n",
    "\n",
    "\"\"\"utility for analyse data\"\"\"\n",
    "SPAdict = sepspaClass.loadPLK(\"PATHtoDataSet/pythonObj/xxxxx_EllipticalCorrectedSPADict.plk\") #load spadict\n",
    "startFrameNumber = 1\n",
    "endFrameNumber = 1601\n",
    "roationCorrection = 44.4\n",
    "utilityClass = utility(SPAdict,startFrameNumber ,endFrameNumber,roationCorrection)\n",
    "\n",
    "utilityClass.gatherItemFromDict(\"Search Key\",returnFramewise=True) \n",
    "\n",
    "\n",
    "\n",
    "\n"
   ]
  }
 ],
 "metadata": {
  "kernelspec": {
   "display_name": "Python 3",
   "language": "python",
   "name": "python3"
  },
  "language_info": {
   "codemirror_mode": {
    "name": "ipython",
    "version": 3
   },
   "file_extension": ".py",
   "mimetype": "text/x-python",
   "name": "python",
   "nbconvert_exporter": "python",
   "pygments_lexer": "ipython3",
   "version": "3.6.6"
  }
 },
 "nbformat": 4,
 "nbformat_minor": 2
}
